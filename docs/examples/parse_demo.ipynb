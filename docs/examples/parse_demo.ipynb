{
 "cells": [
  {
   "cell_type": "markdown",
   "metadata": {},
   "source": [
    "# Parsing a Counter-Strike 2 Demo\n",
    "\n",
    "In this notebook, we show how to install Awpy and parse a Counter-Strike 2 demo file (also called a replay file). To start, install Awpy via pip by running `pip install awpy`. Python >= 3.9 is a prerequisite! You can get a demo either through the game itself, or by visiting a website like [HLTV](https://www.hltv.org/) or [FACEIT](https://www.faceit.com/). Then, to parse the demo, you can run the following:"
   ]
  },
  {
   "cell_type": "code",
   "execution_count": null,
   "metadata": {},
   "outputs": [],
   "source": [
    "from awpy import Demo\n",
    "\n",
    "# Demo: https://www.hltv.org/matches/2372746/spirit-vs-natus-vincere-blast-premier-spring-final-2024 (de_dust2, Map 2)\n",
    "dem = Demo(\"spirit-vs-natus-vincere-m2-dust2.dem\", verbose=False)\n",
    "\n",
    "# Available properties (all demos)\n",
    "print(f\"Kills: \\n{dem.kills.head(n=3)}\")\n",
    "print(f\"\\nDamages: \\n{dem.damages.head(n=3)}\")\n",
    "print(f\"\\nBomb: \\n{dem.bomb.head(n=3)}\")\n",
    "print(f\"\\nSmokes: \\n{dem.smokes.head(n=3)}\")\n",
    "print(f\"\\nInfernos: \\n{dem.infernos.head(n=3)}\")\n",
    "print(f\"\\nWeapon Fires: \\n{dem.weapon_fires.head(n=3)}\")\n",
    "print(f\"\\nRounds: \\n{dem.rounds.head(n=3)}\")\n",
    "print(f\"\\nGrenades: \\n{dem.grenades.head(n=3)}\")\n",
    "print(f\"\\nTicks: \\n{dem.ticks.head(n=3)}\")\n",
    "\n",
    "print(f\"\\nHeader: \\n{dem.header}\")"
   ]
  },
  {
   "cell_type": "markdown",
   "metadata": {},
   "source": [
    "### Changing parsing options\n",
    "You can control the parser through various parameters, such as setting `ticks = False` if you do not want to parse ticks or `rounds=False` if you do not want to parse round information. Note that the round information is needed to produce the \"top-level\" dataframes, like `dem.kills`, `dem.damages` and so on. So, we recommend setting `rounds` to `False` only for debugging purposes or if you have your own flow."
   ]
  },
  {
   "cell_type": "code",
   "execution_count": null,
   "metadata": {},
   "outputs": [],
   "source": [
    "import time\n",
    "\n",
    "# With ticks\n",
    "start = time.time()\n",
    "dem_noticks = Demo(\"spirit-vs-natus-vincere-m2-dust2.dem\", verbose=False, ticks=False)\n",
    "end = time.time()\n",
    "\n",
    "print(f\"Parse time without parsing ticks: {end - start}\")"
   ]
  },
  {
   "cell_type": "code",
   "execution_count": null,
   "metadata": {},
   "outputs": [],
   "source": [
    "# Without tick data (much faster)\n",
    "start = time.time()\n",
    "dem_ticks = Demo(\"spirit-vs-natus-vincere-m2-dust2.dem\", verbose=True, ticks=True)\n",
    "end = time.time()\n",
    "\n",
    "print(f\"Parse time with parsing ticks: {end - start}\")"
   ]
  },
  {
   "cell_type": "markdown",
   "metadata": {},
   "source": [
    "### Getting player and global properties\n",
    "Awpy uses [demoparser2](https://github.com/LaihoE/demoparser) as its parsing backend. This means that you can pass a list of `player_props` or `other_props`. In the following example, we get some player position properties. If you do not pass any props, we choose a default list of properties (which is already quite extensive). To see a list of available properties, visit demoparser2's repository."
   ]
  },
  {
   "cell_type": "code",
   "execution_count": null,
   "metadata": {},
   "outputs": [],
   "source": [
    "dem_with_props = Demo(\"spirit-vs-natus-vincere-m2-dust2.dem\", player_props=[\"X\", \"Y\"])\n",
    "\n",
    "dem_with_props.ticks[[\"tick\", \"team_name\", \"name\", \"X\", \"Y\", \"inventory\"]].sample(n=10)"
   ]
  },
  {
   "cell_type": "markdown",
   "metadata": {},
   "source": [
    "### Obtaining all events\n",
    "Because we use the demoparser2 backend, we store all events in the demo. You can access these events with the `.events` property, which is a dictionary."
   ]
  },
  {
   "cell_type": "code",
   "execution_count": null,
   "metadata": {},
   "outputs": [],
   "source": [
    "dem = Demo(\"spirit-vs-natus-vincere-m2-dust2.dem\", ticks=False)\n",
    "\n",
    "for event_name, event in dem.events.items():\n",
    "    print(f\"{event_name}: {event.shape[0]} rows x {event.shape[1]} columns\")"
   ]
  },
  {
   "cell_type": "markdown",
   "metadata": {},
   "source": [
    "### Printing logs\n",
    "The `Demo` class can output helpful logs if you enable `verbose=True`."
   ]
  },
  {
   "cell_type": "code",
   "execution_count": null,
   "metadata": {},
   "outputs": [],
   "source": [
    "dem = Demo(\"spirit-vs-natus-vincere-m2-dust2.dem\", verbose=True)"
   ]
  }
 ],
 "metadata": {
  "kernelspec": {
   "display_name": "Python 3",
   "language": "python",
   "name": "python3"
  },
  "language_info": {
   "name": "python",
   "version": "3.9.13"
  }
 },
 "nbformat": 4,
 "nbformat_minor": 2
}
