{
 "cells": [
  {
   "cell_type": "markdown",
   "metadata": {},
   "source": [
    "# Working with Map Data\n",
    "\n",
    "Awpy also exposes useful map data and can even calculate crude visibility metrics!\n",
    "\n",
    "TO BE CONTINUED"
   ]
  }
 ],
 "metadata": {
  "language_info": {
   "name": "python"
  }
 },
 "nbformat": 4,
 "nbformat_minor": 2
}
