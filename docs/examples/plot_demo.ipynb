{
 "cells": [
  {
   "cell_type": "markdown",
   "metadata": {},
   "source": [
    "# Visualizing a Demo\n",
    "\n",
    "Awpy allows you to easily visualize Counter-Strike 2 data.\n",
    "\n",
    "TO BE CONTINUED"
   ]
  }
 ],
 "metadata": {
  "language_info": {
   "name": "python"
  }
 },
 "nbformat": 4,
 "nbformat_minor": 2
}
