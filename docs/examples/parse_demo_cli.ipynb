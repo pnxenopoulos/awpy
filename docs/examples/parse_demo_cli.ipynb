{
 "cells": [
  {
   "cell_type": "markdown",
   "metadata": {},
   "source": [
    "# Using the Awpy CLI\n",
    "\n",
    "Awpy also comes with the capability of parsing demos through the command line interface. After installing Awpy, you can run the following"
   ]
  },
  {
   "cell_type": "code",
   "execution_count": null,
   "metadata": {
    "vscode": {
     "languageId": "plaintext"
    }
   },
   "outputs": [],
   "source": [
    "!awpy parse spirit-vs-natus-vincere-m2-dust2.dem\n",
    "\n",
    "import zipfile\n",
    "\n",
    "def list_zip_contents(zip_path):\n",
    "    with zipfile.ZipFile(zip_path, 'r') as zip_ref:\n",
    "        contents = zip_ref.namelist()\n",
    "        return contents\n",
    "\n",
    "zip_path = 'spirit-vs-natus-vincere-m2-dust2.zip'\n",
    "contents = list_zip_contents(zip_path)\n",
    "for file_name in contents:\n",
    "    print(file_name)"
   ]
  },
  {
   "cell_type": "markdown",
   "metadata": {},
   "source": [
    "this will write a zipped file of the parsed demo data (as parquet files). At the top level, you will find `kills`, `damages` and so on. There will also be a folder `events/` with all the events as parquet files. \n",
    "\n",
    "When parsing, you can also use flags like `--verbose`, `--noticks` and `--rounds`."
   ]
  },
  {
   "cell_type": "code",
   "execution_count": null,
   "metadata": {
    "vscode": {
     "languageId": "plaintext"
    }
   },
   "outputs": [],
   "source": [
    "!awpy parse spirit-vs-natus-vincere-m2-dust2.dem --verbose --noticks --rounds\n",
    "\n",
    "import os\n",
    "os.remove(\"spirit-vs-natus-vincere-m2-dust2.zip\")  # Removes the file created"
   ]
  }
 ],
 "metadata": {
  "language_info": {
   "name": "python"
  }
 },
 "nbformat": 4,
 "nbformat_minor": 2
}
