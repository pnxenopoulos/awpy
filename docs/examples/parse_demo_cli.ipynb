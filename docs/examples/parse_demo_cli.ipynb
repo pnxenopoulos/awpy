{
 "cells": [
  {
   "cell_type": "markdown",
   "metadata": {},
   "source": [
    "# Using the Awpy CLI\n",
    "\n",
    "Awpy also comes with the capability of parsing demos through the command line interface. After installing Awpy, you can run the following:"
   ]
  },
  {
   "cell_type": "code",
   "execution_count": 1,
   "metadata": {},
   "outputs": [
    {
     "name": "stdout",
     "output_type": "stream",
     "text": [
      "kills.data\n",
      "damages.data\n",
      "bomb.data\n",
      "smokes.data\n",
      "infernos.data\n",
      "weapon_fires.data\n",
      "rounds.data\n",
      "grenades.data\n",
      "events/player_sound.data\n",
      "events/cs_win_panel_match.data\n",
      "events/bomb_dropped.data\n",
      "events/player_death.data\n",
      "events/bomb_defused.data\n",
      "events/hltv_fixed.data\n",
      "events/hltv_versioninfo.data\n",
      "events/player_team.data\n",
      "events/bomb_pickup.data\n",
      "events/entity_killed.data\n",
      "events/cs_pre_restart.data\n",
      "events/item_pickup.data\n",
      "events/cs_intermission.data\n",
      "events/weapon_fire.data\n",
      "events/player_given_c4.data\n",
      "events/announce_phase_end.data\n",
      "events/smokegrenade_expired.data\n",
      "events/inferno_startburn.data\n",
      "events/round_officially_ended.data\n",
      "events/inferno_expire.data\n",
      "events/cs_round_start_beep.data\n",
      "events/begin_new_match.data\n",
      "events/bomb_planted.data\n",
      "events/bomb_exploded.data\n",
      "events/server_cvar.data\n",
      "events/cs_round_final_beep.data\n",
      "events/switch_team.data\n",
      "events/flashbang_detonate.data\n",
      "events/round_announce_last_round_half.data\n",
      "events/player_ping.data\n",
      "events/player_spawn.data\n",
      "events/smokegrenade_detonate.data\n",
      "events/vote_cast.data\n",
      "events/hegrenade_detonate.data\n",
      "events/round_end_upload_stats.data\n",
      "events/round_announce_match_start.data\n",
      "events/round_freeze_end.data\n",
      "events/round_time_warning.data\n",
      "events/round_announce_match_point.data\n",
      "events/hltv_chase.data\n",
      "events/player_hurt.data\n",
      "events/player_ping_stop.data\n",
      "ticks.data\n",
      "header.json\n"
     ]
    }
   ],
   "source": [
    "!awpy parse spirit-vs-natus-vincere-m2-dust2.dem\n",
    "\n",
    "import zipfile\n",
    "\n",
    "\n",
    "def list_zip_contents(zip_path: str) -> list[str]:\n",
    "    with zipfile.ZipFile(zip_path, \"r\") as zip_ref:\n",
    "        contents = zip_ref.namelist()\n",
    "        return contents\n",
    "\n",
    "\n",
    "zip_path = \"spirit-vs-natus-vincere-m2-dust2.zip\"\n",
    "contents = list_zip_contents(zip_path)\n",
    "for file_name in contents:\n",
    "    print(file_name)"
   ]
  },
  {
   "cell_type": "markdown",
   "metadata": {},
   "source": [
    "This will write a zipped file of the parsed demo data (as parquet files). At the top level, you will find `kills`, `damages` and so on. There will also be a folder `events/` with all the events as parquet files. \n",
    "\n",
    "When parsing, you can also use flags like `--verbose`, `--noticks` and `--norounds`."
   ]
  },
  {
   "cell_type": "code",
   "execution_count": 2,
   "metadata": {},
   "outputs": [
    {
     "name": "stderr",
     "output_type": "stream",
     "text": [
      "\u001b[32m2024-06-21 15:36:26.805\u001b[0m | \u001b[32m\u001b[1mSUCCESS \u001b[0m | \u001b[36mawpy.demo\u001b[0m:\u001b[36m_success\u001b[0m:\u001b[36m150\u001b[0m - \u001b[32m\u001b[1mCreated parser for spirit-vs-natus-vincere-m2-dust2.dem\u001b[0m\n",
      "\u001b[32m2024-06-21 15:36:27.418\u001b[0m | \u001b[34m\u001b[1mDEBUG   \u001b[0m | \u001b[36mawpy.demo\u001b[0m:\u001b[36m_debug\u001b[0m:\u001b[36m168\u001b[0m - \u001b[34m\u001b[1mFound the following game events: ['hltv_versioninfo', 'announce_phase_end', 'bomb_exploded', 'hltv_chase', 'flashbang_detonate', 'server_cvar', 'round_announce_last_round_half', 'switch_team', 'inferno_startburn', 'player_spawn', 'bomb_pickup', 'hltv_fixed', 'cs_round_final_beep', 'player_team', 'player_sound', 'item_pickup', 'vote_cast', 'round_freeze_end', 'cs_round_start_beep', 'bomb_defused', 'round_end_upload_stats', 'player_hurt', 'round_time_warning', 'round_announce_match_point', 'begin_new_match', 'entity_killed', 'round_announce_match_start', 'cs_intermission', 'weapon_fire', 'player_given_c4', 'bomb_planted', 'player_death', 'hegrenade_detonate', 'smokegrenade_detonate', 'cs_win_panel_match', 'round_officially_ended', 'bomb_dropped', 'inferno_expire', 'cs_pre_restart', 'smokegrenade_expired', 'player_ping_stop', 'player_ping']\u001b[0m\n",
      "\u001b[32m2024-06-21 15:36:28.811\u001b[0m | \u001b[32m\u001b[1mSUCCESS \u001b[0m | \u001b[36mawpy.demo\u001b[0m:\u001b[36m_success\u001b[0m:\u001b[36m150\u001b[0m - \u001b[32m\u001b[1mParsed raw events for spirit-vs-natus-vincere-m2-dust2.dem\u001b[0m\n",
      "\u001b[32m2024-06-21 15:36:28.811\u001b[0m | \u001b[34m\u001b[1mDEBUG   \u001b[0m | \u001b[36mawpy.demo\u001b[0m:\u001b[36m_debug\u001b[0m:\u001b[36m168\u001b[0m - \u001b[34m\u001b[1mSkipping tick parsing...\u001b[0m\n",
      "\u001b[32m2024-06-21 15:36:28.811\u001b[0m | \u001b[34m\u001b[1mDEBUG   \u001b[0m | \u001b[36mawpy.demo\u001b[0m:\u001b[36m_debug\u001b[0m:\u001b[36m168\u001b[0m - \u001b[34m\u001b[1mSkipping round number parsing for events...\u001b[0m\n",
      "\u001b[32m2024-06-21 15:36:28.811\u001b[0m | \u001b[32m\u001b[1mSUCCESS \u001b[0m | \u001b[36mawpy.demo\u001b[0m:\u001b[36m_success\u001b[0m:\u001b[36m150\u001b[0m - \u001b[32m\u001b[1mProcessed events for spirit-vs-natus-vincere-m2-dust2.dem\u001b[0m\n",
      "\u001b[32m2024-06-21 15:36:29.190\u001b[0m | \u001b[32m\u001b[1mSUCCESS \u001b[0m | \u001b[36mawpy.demo\u001b[0m:\u001b[36m_success\u001b[0m:\u001b[36m150\u001b[0m - \u001b[32m\u001b[1mZipped demo data to c:\\Users\\pnxen\\Documents\\awpy\\docs\\examples\\spirit-vs-natus-vincere-m2-dust2.zip\u001b[0m\n"
     ]
    }
   ],
   "source": [
    "!awpy parse spirit-vs-natus-vincere-m2-dust2.dem --verbose --noticks --norounds"
   ]
  },
  {
   "cell_type": "markdown",
   "metadata": {},
   "source": [
    "You may also pass props in with `--player-props` and `--other-props` flags. In the example below, I get each player's color and field of view."
   ]
  },
  {
   "cell_type": "code",
   "execution_count": 6,
   "metadata": {},
   "outputs": [
    {
     "name": "stderr",
     "output_type": "stream",
     "text": [
      "\u001b[32m2024-06-21 15:43:52.041\u001b[0m | \u001b[32m\u001b[1mSUCCESS \u001b[0m | \u001b[36mawpy.demo\u001b[0m:\u001b[36m_success\u001b[0m:\u001b[36m150\u001b[0m - \u001b[32m\u001b[1mCreated parser for spirit-vs-natus-vincere-m2-dust2.dem\u001b[0m\n",
      "\u001b[32m2024-06-21 15:43:52.657\u001b[0m | \u001b[34m\u001b[1mDEBUG   \u001b[0m | \u001b[36mawpy.demo\u001b[0m:\u001b[36m_debug\u001b[0m:\u001b[36m168\u001b[0m - \u001b[34m\u001b[1mFound the following game events: ['hltv_chase', 'smokegrenade_expired', 'round_announce_match_point', 'weapon_fire', 'cs_pre_restart', 'player_hurt', 'player_ping', 'player_death', 'round_time_warning', 'vote_cast', 'cs_win_panel_match', 'hltv_fixed', 'smokegrenade_detonate', 'round_freeze_end', 'hegrenade_detonate', 'round_officially_ended', 'cs_intermission', 'entity_killed', 'player_spawn', 'flashbang_detonate', 'player_ping_stop', 'hltv_versioninfo', 'inferno_startburn', 'cs_round_start_beep', 'bomb_defused', 'switch_team', 'announce_phase_end', 'round_end_upload_stats', 'player_team', 'bomb_exploded', 'cs_round_final_beep', 'server_cvar', 'round_announce_last_round_half', 'inferno_expire', 'round_announce_match_start', 'bomb_dropped', 'player_given_c4', 'begin_new_match', 'bomb_planted', 'item_pickup', 'player_sound', 'bomb_pickup']\u001b[0m\n",
      "\u001b[32m2024-06-21 15:43:54.091\u001b[0m | \u001b[32m\u001b[1mSUCCESS \u001b[0m | \u001b[36mawpy.demo\u001b[0m:\u001b[36m_success\u001b[0m:\u001b[36m150\u001b[0m - \u001b[32m\u001b[1mParsed raw events for spirit-vs-natus-vincere-m2-dust2.dem\u001b[0m\n",
      "\u001b[32m2024-06-21 15:43:57.029\u001b[0m | \u001b[34m\u001b[1mDEBUG   \u001b[0m | \u001b[36mawpy.demo\u001b[0m:\u001b[36m_debug\u001b[0m:\u001b[36m168\u001b[0m - \u001b[34m\u001b[1mSkipping tick parsing...\u001b[0m\n",
      "\u001b[32m2024-06-21 15:43:57.067\u001b[0m | \u001b[32m\u001b[1mSUCCESS \u001b[0m | \u001b[36mawpy.demo\u001b[0m:\u001b[36m_success\u001b[0m:\u001b[36m150\u001b[0m - \u001b[32m\u001b[1mProcessed events for spirit-vs-natus-vincere-m2-dust2.dem\u001b[0m\n",
      "\u001b[32m2024-06-21 15:43:57.672\u001b[0m | \u001b[32m\u001b[1mSUCCESS \u001b[0m | \u001b[36mawpy.demo\u001b[0m:\u001b[36m_success\u001b[0m:\u001b[36m150\u001b[0m - \u001b[32m\u001b[1mZipped demo data to c:\\Users\\pnxen\\Documents\\awpy\\docs\\examples\\spirit-vs-natus-vincere-m2-dust2.zip\u001b[0m\n"
     ]
    }
   ],
   "source": [
    "!awpy parse spirit-vs-natus-vincere-m2-dust2.dem --verbose --noticks --player-props player_color,fov"
   ]
  }
 ],
 "metadata": {
  "kernelspec": {
   "display_name": "awpy-xHXg8_9I-py3.9",
   "language": "python",
   "name": "python3"
  },
  "language_info": {
   "codemirror_mode": {
    "name": "ipython",
    "version": 3
   },
   "file_extension": ".py",
   "mimetype": "text/x-python",
   "name": "python",
   "nbconvert_exporter": "python",
   "pygments_lexer": "ipython3",
   "version": "3.9.13"
  }
 },
 "nbformat": 4,
 "nbformat_minor": 2
}
