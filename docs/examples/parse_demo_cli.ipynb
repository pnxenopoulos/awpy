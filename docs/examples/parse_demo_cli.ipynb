{
 "cells": [
  {
   "cell_type": "markdown",
   "metadata": {},
   "source": [
    "# Using the Awpy CLI\n",
    "\n",
    "Awpy also comes with the capability of parsing demos through the command line interface. After installing Awpy, you can run the following:"
   ]
  },
  {
   "cell_type": "code",
   "execution_count": null,
   "metadata": {
    "vscode": {
     "languageId": "plaintext"
    }
   },
   "outputs": [],
   "source": [
    "!awpy parse spirit-vs-natus-vincere-m2-dust2.dem\n",
    "\n",
    "import zipfile\n",
    "\n",
    "\n",
    "def list_zip_contents(zip_path):\n",
    "    with zipfile.ZipFile(zip_path, \"r\") as zip_ref:\n",
    "        contents = zip_ref.namelist()\n",
    "        return contents\n",
    "\n",
    "\n",
    "zip_path = \"spirit-vs-natus-vincere-m2-dust2.zip\"\n",
    "contents = list_zip_contents(zip_path)\n",
    "for file_name in contents:\n",
    "    print(file_name)"
   ]
  },
  {
   "cell_type": "markdown",
   "metadata": {},
   "source": [
    "This will write a zipped file of the parsed demo data (as parquet files). At the top level, you will find `kills`, `damages` and so on. There will also be a folder `events/` with all the events as parquet files. \n",
    "\n",
    "When parsing, you can also use flags like `--verbose`, `--noticks` and `--norounds`."
   ]
  },
  {
   "cell_type": "code",
   "execution_count": null,
   "metadata": {
    "vscode": {
     "languageId": "plaintext"
    }
   },
   "outputs": [],
   "source": [
    "!awpy parse spirit-vs-natus-vincere-m2-dust2.dem --verbose --noticks --norounds"
   ]
  },
  {
   "cell_type": "markdown",
   "metadata": {},
   "source": [
    "You may also pass props in with `--player-props` and `--other-props` flags. In the example below, I get each player's color and field of view."
   ]
  },
  {
   "cell_type": "code",
   "execution_count": null,
   "metadata": {
    "vscode": {
     "languageId": "plaintext"
    }
   },
   "outputs": [],
   "source": [
    "!awpy parse spirit-vs-natus-vincere-m2-dust2.dem --verbose --noticks --player-props player_color,fov"
   ]
  }
 ],
 "metadata": {
  "language_info": {
   "name": "python"
  }
 },
 "nbformat": 4,
 "nbformat_minor": 2
}
